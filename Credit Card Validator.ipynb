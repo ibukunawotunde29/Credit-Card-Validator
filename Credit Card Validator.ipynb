{
 "cells": [
  {
   "cell_type": "code",
   "execution_count": 2,
   "metadata": {},
   "outputs": [
    {
     "name": "stdout",
     "output_type": "stream",
     "text": [
      "Enter your 16 digit credit card number : 5494346284901638\n",
      "INVALID CARD NUMBER\n",
      "Do you want to check again? (Yes/No) : Yes\n",
      "Enter your 16 digit credit card number : No\n",
      "That is not a valid credit card number. \n",
      "Make sure you are entering digits not characters and all the 16 digits.\n",
      "Enter your 16 digit credit card number : ihioy970979876986968\n",
      "That is not a valid credit card number. \n",
      "Make sure you are entering digits not characters and all the 16 digits.\n",
      "Enter your 16 digit credit card number : 0099765431157789\n",
      "INVALID CARD NUMBER\n",
      "Do you want to check again? (Yes/No) : No\n"
     ]
    }
   ],
   "source": [
    "# Credit Card Validator : Simple implementation of the \"Luhn Algorithm\" or Mod 10 Algorithm, verifies a valid credit card number. \n",
    "\n",
    "\n",
    "def check_validity(num):                                                   # this function adds every digit of the card number to a list and,\n",
    "    validlist=[]\n",
    "    for i in num:\n",
    "        validlist.append(int(i))\n",
    "    for i in range(0,len(num),2):                                             # applying Luhn Algorithm to check whether resulting sum is divisible by ten\n",
    "        validlist[i] = validlist[i] * 2\n",
    "        if validlist[i]  >= 10:\n",
    "            validlist[i] =  (validlist[i]//10 + validlist[i]%10)\n",
    "    \n",
    "    if sum(validlist)% 10 == 0:\n",
    "        print(\"This is a VALID CARD!\")\n",
    "    \n",
    "    else:\n",
    "        print('INVALID CARD NUMBER')\n",
    "\n",
    "def cardnumber():                                                                     # accepts card number as a string\n",
    "\n",
    "    n =''\n",
    "    while True:\n",
    "        try:\n",
    "            n = input('Enter your 16 digit credit card number : ')\n",
    "\n",
    "            if not (len(n) == 16) or not type(int(n) == int) :\n",
    "                raise Exception\n",
    "\n",
    "        except Exception:    \n",
    "            print('That is not a valid credit card number. \\nMake sure you are entering digits not characters and all the 16 digits.')\n",
    "            continue\n",
    "\n",
    "        else:\n",
    "            break\n",
    "\n",
    "\n",
    "    return n\n",
    "\n",
    "def goagain():\n",
    "    return input('Do you want to check again? (Yes/No) : ').lower()[0] == 'y'\n",
    "\n",
    "def main():\n",
    "\n",
    "    while True:\n",
    "\n",
    "        num = cardnumber()\n",
    "        check_validity(num)\n",
    "\n",
    "\n",
    "        if not goagain():\n",
    "            break\n",
    "\n",
    "if __name__ == '__main__':\n",
    "    main()"
   ]
  },
  {
   "cell_type": "code",
   "execution_count": 3,
   "metadata": {},
   "outputs": [
    {
     "name": "stdout",
     "output_type": "stream",
     "text": [
      "Card: 4040141714581556\n"
     ]
    }
   ],
   "source": [
    "from random import randint\n",
    "import time\n",
    "from random import random\n",
    "from random import seed\n",
    "\n",
    "type = \"random\"\n",
    "card = \"\"\n",
    "\n",
    "card_types = [\"random\"]\n",
    "\n",
    "def prefill(t):\n",
    "    # typical number of digits in credit card\n",
    "    def_length = 16\n",
    "\n",
    "    if t == card_types[0]:\n",
    "        # discover card starts with 6011 and is 16 digits long\n",
    "        return [4, 0, 4, 0], def_length - 4\n",
    "\n",
    "    else:\n",
    "        # this section probably not even needed here\n",
    "        return [], def_length\n",
    "\n",
    "def finalize(nums):\n",
    "    check_sum = 0\n",
    "\n",
    "    #is_even = True if (len(nums) + 1 % 2) == 0 else False\n",
    "\n",
    "    check_offset = (len(nums) + 1) % 2\n",
    "\n",
    "    for i, n in enumerate(nums):\n",
    "        if (i + check_offset) % 2 == 0:\n",
    "            n_ = n*2\n",
    "            check_sum += n_ -9 if n_ > 9 else n_\n",
    "        else:\n",
    "            check_sum += n\n",
    "    return nums + [10 - (check_sum % 10) ]\n",
    "\n",
    "# main body\n",
    "t = type.lower()\n",
    "if t not in card_types:\n",
    "    print(\"Unknown type: '%s'\" % type)\n",
    "    print(\"Please pick one of these supported types: %s\" % card_types)\n",
    "\n",
    "else:\n",
    "    initial, rem = prefill(t)\n",
    "    so_far = initial + [randint(1,9) for x in range(rem - 1)]\n",
    "    card = \"\".join(map(str,finalize(so_far)))\n",
    "    print(\"Card:\",card)"
   ]
  },
  {
   "cell_type": "code",
   "execution_count": null,
   "metadata": {},
   "outputs": [],
   "source": []
  }
 ],
 "metadata": {
  "kernelspec": {
   "display_name": "Python 3",
   "language": "python",
   "name": "python3"
  },
  "language_info": {
   "codemirror_mode": {
    "name": "ipython",
    "version": 3
   },
   "file_extension": ".py",
   "mimetype": "text/x-python",
   "name": "python",
   "nbconvert_exporter": "python",
   "pygments_lexer": "ipython3",
   "version": "3.8.3"
  }
 },
 "nbformat": 4,
 "nbformat_minor": 2
}
